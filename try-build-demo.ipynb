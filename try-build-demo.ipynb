{
 "cells": [
  {
   "cell_type": "markdown",
   "metadata": {},
   "source": [
    "# This is a demo"
   ]
  },
  {
   "cell_type": "markdown",
   "metadata": {},
   "source": [
    "## training"
   ]
  },
  {
   "cell_type": "markdown",
   "metadata": {},
   "source": [
    "1. get ttf file\n",
    "2. translate ttf to graph\n",
    "3. get the edge of each graph\n",
    "4. draw the edge to a new graph/ prserve the edge as a data\n",
    "5. construct model (get related information)\n",
    "6. preserve the model"
   ]
  },
  {
   "cell_type": "markdown",
   "metadata": {},
   "source": [
    "## usage"
   ]
  },
  {
   "cell_type": "markdown",
   "metadata": {},
   "source": [
    "1. get photo\n",
    "2. use GaussBlur\n",
    "3. cut into pieces\n",
    "4. add frame\n",
    "5. draw the edge\n",
    "6. prediction by using the model\n",
    "7. give expectation\n",
    "8. combine characters together\n",
    "9. test whether the character is placed in correct place\n",
    "10. test whether the character is a suitable output"
   ]
  },
  {
   "cell_type": "code",
   "execution_count": null,
   "metadata": {},
   "outputs": [],
   "source": []
  }
 ],
 "metadata": {
  "language_info": {
   "name": "python"
  },
  "orig_nbformat": 4
 },
 "nbformat": 4,
 "nbformat_minor": 2
}
