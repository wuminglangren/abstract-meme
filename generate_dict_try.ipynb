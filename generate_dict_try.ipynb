{
 "cells": [
  {
   "cell_type": "code",
   "execution_count": 8,
   "metadata": {},
   "outputs": [],
   "source": [
    "import os\n",
    "import json\n",
    "import pickle"
   ]
  },
  {
   "cell_type": "code",
   "execution_count": 9,
   "metadata": {},
   "outputs": [],
   "source": [
    "from generate_dict import dir_dict_path, dir_dict_reversed_path"
   ]
  },
  {
   "cell_type": "code",
   "execution_count": 10,
   "metadata": {},
   "outputs": [
    {
     "data": {
      "text/plain": [
       "'dir_dict.pkl'"
      ]
     },
     "execution_count": 10,
     "metadata": {},
     "output_type": "execute_result"
    }
   ],
   "source": [
    "dir_dict_path"
   ]
  },
  {
   "cell_type": "code",
   "execution_count": 11,
   "metadata": {},
   "outputs": [],
   "source": [
    "with open(dir_dict_path, \"rb\") as file:\n",
    "    # dir_dict = json.load(file)\n",
    "    dir_dict = pickle.load(file)"
   ]
  },
  {
   "cell_type": "code",
   "execution_count": 12,
   "metadata": {},
   "outputs": [
    {
     "data": {
      "text/plain": [
       "{'100_0x64': 0,\n",
       " '101_0x65': 1,\n",
       " '102_0x66': 2,\n",
       " '103_0x67': 3,\n",
       " '104_0x68': 4,\n",
       " '105_0x69': 5,\n",
       " '106_0x6a': 6,\n",
       " '107_0x6b': 7,\n",
       " '108_0x6c': 8,\n",
       " '109_0x6d': 9,\n",
       " '110_0x6e': 10,\n",
       " '111_0x6f': 11,\n",
       " '112_0x70': 12,\n",
       " '113_0x71': 13,\n",
       " '114_0x72': 14,\n",
       " '115_0x73': 15,\n",
       " '116_0x74': 16,\n",
       " '117_0x75': 17,\n",
       " '118_0x76': 18,\n",
       " '119_0x77': 19,\n",
       " '120_0x78': 20,\n",
       " '121_0x79': 21,\n",
       " '122_0x7a': 22,\n",
       " '123_0x7b': 23,\n",
       " '124_0x7c': 24,\n",
       " '125_0x7d': 25,\n",
       " '126_0x7e': 26,\n",
       " '32_0x20': 27,\n",
       " '33_0x21': 28,\n",
       " '34_0x22': 29,\n",
       " '35_0x23': 30,\n",
       " '36_0x24': 31,\n",
       " '37_0x25': 32,\n",
       " '38_0x26': 33,\n",
       " '39_0x27': 34,\n",
       " '40_0x28': 35,\n",
       " '41_0x29': 36,\n",
       " '42_0x2a': 37,\n",
       " '43_0x2b': 38,\n",
       " '44_0x2c': 39,\n",
       " '45_0x2d': 40,\n",
       " '46_0x2e': 41,\n",
       " '47_0x2f': 42,\n",
       " '48_0x30': 43,\n",
       " '49_0x31': 44,\n",
       " '50_0x32': 45,\n",
       " '51_0x33': 46,\n",
       " '52_0x34': 47,\n",
       " '53_0x35': 48,\n",
       " '54_0x36': 49,\n",
       " '55_0x37': 50,\n",
       " '56_0x38': 51,\n",
       " '57_0x39': 52,\n",
       " '58_0x3a': 53,\n",
       " '59_0x3b': 54,\n",
       " '60_0x3c': 55,\n",
       " '61_0x3d': 56,\n",
       " '62_0x3e': 57,\n",
       " '63_0x3f': 58,\n",
       " '64_0x40': 59,\n",
       " '65_0x41': 60,\n",
       " '66_0x42': 61,\n",
       " '67_0x43': 62,\n",
       " '68_0x44': 63,\n",
       " '69_0x45': 64,\n",
       " '70_0x46': 65,\n",
       " '71_0x47': 66,\n",
       " '72_0x48': 67,\n",
       " '73_0x49': 68,\n",
       " '74_0x4a': 69,\n",
       " '75_0x4b': 70,\n",
       " '76_0x4c': 71,\n",
       " '77_0x4d': 72,\n",
       " '78_0x4e': 73,\n",
       " '79_0x4f': 74,\n",
       " '80_0x50': 75,\n",
       " '81_0x51': 76,\n",
       " '82_0x52': 77,\n",
       " '83_0x53': 78,\n",
       " '84_0x54': 79,\n",
       " '85_0x55': 80,\n",
       " '86_0x56': 81,\n",
       " '87_0x57': 82,\n",
       " '88_0x58': 83,\n",
       " '89_0x59': 84,\n",
       " '90_0x5a': 85,\n",
       " '91_0x5b': 86,\n",
       " '92_0x5c': 87,\n",
       " '93_0x5d': 88,\n",
       " '94_0x5e': 89,\n",
       " '95_0x5f': 90,\n",
       " '96_0x60': 91,\n",
       " '97_0x61': 92,\n",
       " '98_0x62': 93,\n",
       " '99_0x63': 94}"
      ]
     },
     "execution_count": 12,
     "metadata": {},
     "output_type": "execute_result"
    }
   ],
   "source": [
    "dir_dict"
   ]
  },
  {
   "cell_type": "code",
   "execution_count": 13,
   "metadata": {},
   "outputs": [],
   "source": [
    "with open(dir_dict_reversed_path, \"rb\") as file:\n",
    "    # dir_dict_reversed = json.load(file)\n",
    "    dir_dict_reversed = pickle.load(file)"
   ]
  },
  {
   "cell_type": "code",
   "execution_count": 14,
   "metadata": {},
   "outputs": [
    {
     "data": {
      "text/plain": [
       "{0: '100_0x64',\n",
       " 1: '101_0x65',\n",
       " 2: '102_0x66',\n",
       " 3: '103_0x67',\n",
       " 4: '104_0x68',\n",
       " 5: '105_0x69',\n",
       " 6: '106_0x6a',\n",
       " 7: '107_0x6b',\n",
       " 8: '108_0x6c',\n",
       " 9: '109_0x6d',\n",
       " 10: '110_0x6e',\n",
       " 11: '111_0x6f',\n",
       " 12: '112_0x70',\n",
       " 13: '113_0x71',\n",
       " 14: '114_0x72',\n",
       " 15: '115_0x73',\n",
       " 16: '116_0x74',\n",
       " 17: '117_0x75',\n",
       " 18: '118_0x76',\n",
       " 19: '119_0x77',\n",
       " 20: '120_0x78',\n",
       " 21: '121_0x79',\n",
       " 22: '122_0x7a',\n",
       " 23: '123_0x7b',\n",
       " 24: '124_0x7c',\n",
       " 25: '125_0x7d',\n",
       " 26: '126_0x7e',\n",
       " 27: '32_0x20',\n",
       " 28: '33_0x21',\n",
       " 29: '34_0x22',\n",
       " 30: '35_0x23',\n",
       " 31: '36_0x24',\n",
       " 32: '37_0x25',\n",
       " 33: '38_0x26',\n",
       " 34: '39_0x27',\n",
       " 35: '40_0x28',\n",
       " 36: '41_0x29',\n",
       " 37: '42_0x2a',\n",
       " 38: '43_0x2b',\n",
       " 39: '44_0x2c',\n",
       " 40: '45_0x2d',\n",
       " 41: '46_0x2e',\n",
       " 42: '47_0x2f',\n",
       " 43: '48_0x30',\n",
       " 44: '49_0x31',\n",
       " 45: '50_0x32',\n",
       " 46: '51_0x33',\n",
       " 47: '52_0x34',\n",
       " 48: '53_0x35',\n",
       " 49: '54_0x36',\n",
       " 50: '55_0x37',\n",
       " 51: '56_0x38',\n",
       " 52: '57_0x39',\n",
       " 53: '58_0x3a',\n",
       " 54: '59_0x3b',\n",
       " 55: '60_0x3c',\n",
       " 56: '61_0x3d',\n",
       " 57: '62_0x3e',\n",
       " 58: '63_0x3f',\n",
       " 59: '64_0x40',\n",
       " 60: '65_0x41',\n",
       " 61: '66_0x42',\n",
       " 62: '67_0x43',\n",
       " 63: '68_0x44',\n",
       " 64: '69_0x45',\n",
       " 65: '70_0x46',\n",
       " 66: '71_0x47',\n",
       " 67: '72_0x48',\n",
       " 68: '73_0x49',\n",
       " 69: '74_0x4a',\n",
       " 70: '75_0x4b',\n",
       " 71: '76_0x4c',\n",
       " 72: '77_0x4d',\n",
       " 73: '78_0x4e',\n",
       " 74: '79_0x4f',\n",
       " 75: '80_0x50',\n",
       " 76: '81_0x51',\n",
       " 77: '82_0x52',\n",
       " 78: '83_0x53',\n",
       " 79: '84_0x54',\n",
       " 80: '85_0x55',\n",
       " 81: '86_0x56',\n",
       " 82: '87_0x57',\n",
       " 83: '88_0x58',\n",
       " 84: '89_0x59',\n",
       " 85: '90_0x5a',\n",
       " 86: '91_0x5b',\n",
       " 87: '92_0x5c',\n",
       " 88: '93_0x5d',\n",
       " 89: '94_0x5e',\n",
       " 90: '95_0x5f',\n",
       " 91: '96_0x60',\n",
       " 92: '97_0x61',\n",
       " 93: '98_0x62',\n",
       " 94: '99_0x63'}"
      ]
     },
     "execution_count": 14,
     "metadata": {},
     "output_type": "execute_result"
    }
   ],
   "source": [
    "dir_dict_reversed"
   ]
  },
  {
   "cell_type": "code",
   "execution_count": 16,
   "metadata": {},
   "outputs": [
    {
     "data": {
      "text/plain": [
       "4696"
      ]
     },
     "execution_count": 16,
     "metadata": {},
     "output_type": "execute_result"
    }
   ],
   "source": [
    "import sys\n",
    "sys.getsizeof(dir_dict)"
   ]
  },
  {
   "cell_type": "code",
   "execution_count": 17,
   "metadata": {},
   "outputs": [],
   "source": [
    "with open(\"dir_dict.original.pkl\", \"rb\") as file:\n",
    "    # dir_dict = json.load(file)\n",
    "    dir_dict_original = pickle.load(file)"
   ]
  },
  {
   "cell_type": "code",
   "execution_count": 18,
   "metadata": {},
   "outputs": [
    {
     "data": {
      "text/plain": [
       "{'100_0x64': 0,\n",
       " '101_0x65': 1,\n",
       " '102_0x66': 2,\n",
       " '103_0x67': 3,\n",
       " '104_0x68': 4,\n",
       " '105_0x69': 5,\n",
       " '106_0x6a': 6,\n",
       " '107_0x6b': 7,\n",
       " '108_0x6c': 8,\n",
       " '109_0x6d': 9,\n",
       " '110_0x6e': 10,\n",
       " '111_0x6f': 11,\n",
       " '112_0x70': 12,\n",
       " '113_0x71': 13,\n",
       " '114_0x72': 14,\n",
       " '115_0x73': 15,\n",
       " '116_0x74': 16,\n",
       " '117_0x75': 17,\n",
       " '118_0x76': 18,\n",
       " '119_0x77': 19,\n",
       " '120_0x78': 20,\n",
       " '121_0x79': 21,\n",
       " '122_0x7a': 22,\n",
       " '123_0x7b': 23,\n",
       " '124_0x7c': 24,\n",
       " '125_0x7d': 25,\n",
       " '126_0x7e': 26,\n",
       " '32_0x20': 27,\n",
       " '33_0x21': 28,\n",
       " '34_0x22': 29,\n",
       " '35_0x23': 30,\n",
       " '36_0x24': 31,\n",
       " '37_0x25': 32,\n",
       " '38_0x26': 33,\n",
       " '39_0x27': 34,\n",
       " '40_0x28': 35,\n",
       " '41_0x29': 36,\n",
       " '42_0x2a': 37,\n",
       " '43_0x2b': 38,\n",
       " '44_0x2c': 39,\n",
       " '45_0x2d': 40,\n",
       " '46_0x2e': 41,\n",
       " '47_0x2f': 42,\n",
       " '48_0x30': 43,\n",
       " '49_0x31': 44,\n",
       " '50_0x32': 45,\n",
       " '51_0x33': 46,\n",
       " '52_0x34': 47,\n",
       " '53_0x35': 48,\n",
       " '54_0x36': 49,\n",
       " '55_0x37': 50,\n",
       " '56_0x38': 51,\n",
       " '57_0x39': 52,\n",
       " '58_0x3a': 53,\n",
       " '59_0x3b': 54,\n",
       " '60_0x3c': 55,\n",
       " '61_0x3d': 56,\n",
       " '62_0x3e': 57,\n",
       " '63_0x3f': 58,\n",
       " '64_0x40': 59,\n",
       " '65_0x41': 60,\n",
       " '66_0x42': 61,\n",
       " '67_0x43': 62,\n",
       " '68_0x44': 63,\n",
       " '69_0x45': 64,\n",
       " '70_0x46': 65,\n",
       " '71_0x47': 66,\n",
       " '72_0x48': 67,\n",
       " '73_0x49': 68,\n",
       " '74_0x4a': 69,\n",
       " '75_0x4b': 70,\n",
       " '76_0x4c': 71,\n",
       " '77_0x4d': 72,\n",
       " '78_0x4e': 73,\n",
       " '79_0x4f': 74,\n",
       " '80_0x50': 75,\n",
       " '81_0x51': 76,\n",
       " '82_0x52': 77,\n",
       " '83_0x53': 78,\n",
       " '84_0x54': 79,\n",
       " '85_0x55': 80,\n",
       " '86_0x56': 81,\n",
       " '87_0x57': 82,\n",
       " '88_0x58': 83,\n",
       " '89_0x59': 84,\n",
       " '90_0x5a': 85,\n",
       " '91_0x5b': 86,\n",
       " '92_0x5c': 87,\n",
       " '93_0x5d': 88,\n",
       " '94_0x5e': 89,\n",
       " '95_0x5f': 90,\n",
       " '96_0x60': 91,\n",
       " '97_0x61': 92,\n",
       " '98_0x62': 93,\n",
       " '99_0x63': 94}"
      ]
     },
     "execution_count": 18,
     "metadata": {},
     "output_type": "execute_result"
    },
    {
     "ename": "",
     "evalue": "",
     "output_type": "error",
     "traceback": [
      "\u001b[1;31mThe Kernel crashed while executing code in the the current cell or a previous cell. Please review the code in the cell(s) to identify a possible cause of the failure. Click <a href='https://aka.ms/vscodeJupyterKernelCrash'>here</a> for more info. View Jupyter <a href='command:jupyter.viewOutput'>log</a> for further details."
     ]
    }
   ],
   "source": [
    "dir_dict_original"
   ]
  }
 ],
 "metadata": {
  "kernelspec": {
   "display_name": "Python 3",
   "language": "python",
   "name": "python3"
  },
  "language_info": {
   "codemirror_mode": {
    "name": "ipython",
    "version": 3
   },
   "file_extension": ".py",
   "mimetype": "text/x-python",
   "name": "python",
   "nbconvert_exporter": "python",
   "pygments_lexer": "ipython3",
   "version": "3.10.6"
  },
  "orig_nbformat": 4
 },
 "nbformat": 4,
 "nbformat_minor": 2
}
